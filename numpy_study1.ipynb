{
 "cells": [
  {
   "cell_type": "markdown",
   "metadata": {},
   "source": [
    "# <center> Numpy_study1 </center>"
   ]
  },
  {
   "cell_type": "markdown",
   "metadata": {},
   "source": [
    "## Numpy의 기본 사용법"
   ]
  },
  {
   "cell_type": "markdown",
   "metadata": {},
   "source": [
    "## Numpy란?"
   ]
  },
  {
   "cell_type": "markdown",
   "metadata": {},
   "source": [
    "- Numpy는 다차원 배열을 효과적으로 처리할 수 있도록 도와주는 도구.\n",
    "- 현실 세계의 다양한 데이터는 배열 형태로 표현할 수 있음.\n",
    "- Python의 기본 List에 비해 빠르고 강력한 기능을 제공. \n",
    "- 선형대수와 관련된 다양한 기능 제공.\n",
    "- 반복문 없이 데이터 배열에 대한 처리를 지원.\n"
   ]
  },
  {
   "cell_type": "markdown",
   "metadata": {},
   "source": [
    "## Numpy의 차원\n",
    "- 1차원 축(행): axis 0 => Vector\n",
    "- 2차원 축(열): axis 1 => Matrix(행렬)\n",
    "- 3차원 축(채널): axis 2 => Tensor(3차원 이상) "
   ]
  },
  {
   "cell_type": "markdown",
   "metadata": {},
   "source": [
    "## List를 Numpy로 바꾸어 보기"
   ]
  },
  {
   "cell_type": "code",
   "execution_count": 6,
   "metadata": {},
   "outputs": [
    {
     "name": "stdout",
     "output_type": "stream",
     "text": [
      "3\n",
      "int32\n",
      "3\n"
     ]
    }
   ],
   "source": [
    "import numpy as np\n",
    "\n",
    "list_data = [1, 2, 3]\n",
    "array = np.array(list_data)\n",
    "\n",
    "\n",
    "print(array.size) # 배열의 크기 (리스트에서는 제공 X)\n",
    "print(array.dtype) # 배열 원소의 타입 (리스트에서는 제공 X)\n",
    "print(array[2])   # 인덱스 2의 원소"
   ]
  },
  {
   "cell_type": "markdown",
   "metadata": {},
   "source": [
    "## Numpy 배열 초기화 하기"
   ]
  },
  {
   "cell_type": "code",
   "execution_count": 43,
   "metadata": {},
   "outputs": [
    {
     "name": "stdout",
     "output_type": "stream",
     "text": [
      "[0 1 2 3]\n",
      "----------------------------------------------------------------\n",
      "[[0. 0. 0. 0.]\n",
      " [0. 0. 0. 0.]\n",
      " [0. 0. 0. 0.]\n",
      " [0. 0. 0. 0.]]\n",
      "----------------------------------------------------------------\n",
      "[['1' '1' '1']\n",
      " ['1' '1' '1']\n",
      " ['1' '1' '1']]\n",
      "----------------------------------------------------------------\n",
      "[[6 4 2]\n",
      " [8 9 0]\n",
      " [9 9 5]]\n",
      "----------------------------------------------------------------\n",
      "[[ 0.08652543 -2.35560241 -0.32752235]\n",
      " [ 2.66535733 -0.00532567 -1.13339079]\n",
      " [ 1.98494489 -0.99043233  1.29487562]]\n"
     ]
    }
   ],
   "source": [
    "# 실제 데이터 분석과 관련한 다양한 처리를 할 때\n",
    "# 랜덤한 데이터를 여러 개 만들거나, 행렬 곱을 하는 등 다양한 기본적 연산을 제공하는 기능이 필요함.\n",
    "# 이것들을 Numpy가 제공!\n",
    "\n",
    "# 0부터 3까지 배열 만들기\n",
    "array1 = np.arange(4)\n",
    "print(array1)\n",
    "\n",
    "\n",
    "    \n",
    "print('----------------------------------------------------------------')\n",
    "\n",
    "# 특정한 데이터를 만들되 각 데이터가 0으로 초기화 시키고 싶을 때\n",
    "array2 = np.zeros((4,4)) \n",
    "# 4*4 크기의 하나의 2차원 배열을 만들고, 모든 값들이 0으로 초기화 되도록 해줌.\n",
    "print(array2)\n",
    "\n",
    "\n",
    "\n",
    "print('----------------------------------------------------------------')\n",
    "\n",
    "# 1로 초기화 시키고 싶을 때\n",
    "array3 = np.ones((3,3), dtype = str) # dtype을 str으로 받는 것도 가능\n",
    "print(array3)\n",
    "\n",
    "print('----------------------------------------------------------------')\n",
    "\n",
    "# 0부터 9까지 랜덤하게 초기화 된 배열 만들기 (많이 사용!!)\n",
    "array4 = np.random.randint(0, 10, (3, 3))\n",
    "print(array4)\n",
    "\n",
    "print('----------------------------------------------------------------')\n",
    "\n",
    "# 또한 Numpy로 통계적으로 특정한 분포를 따르는 데이터 생성 가능\n",
    "# 평균이 0이고, 표준편차가 1인 표준 정규 분포를 따르는 배열\n",
    "array5 = np.random.normal(0, 1, (3, 3))\n",
    "print(array5)\n"
   ]
  },
  {
   "cell_type": "markdown",
   "metadata": {},
   "source": [
    "## Numpy 배열 형태 바꾸기"
   ]
  },
  {
   "cell_type": "code",
   "execution_count": 28,
   "metadata": {},
   "outputs": [
    {
     "name": "stdout",
     "output_type": "stream",
     "text": [
      "(2, 2)\n"
     ]
    }
   ],
   "source": [
    "array1 = np.array([1, 2, 3, 4])\n",
    "array2 = array1.reshape((2,2))\n",
    "\n",
    "print(array2.shape)"
   ]
  },
  {
   "cell_type": "markdown",
   "metadata": {},
   "source": [
    "## Numpy 배열 합치기"
   ]
  },
  {
   "cell_type": "code",
   "execution_count": 48,
   "metadata": {},
   "outputs": [
    {
     "name": "stdout",
     "output_type": "stream",
     "text": [
      "(6,)\n",
      "[1 2 3 4 5 6]\n",
      "----------------------------------------------------\n",
      "(3, 4)\n",
      "[[0 1 2 3]\n",
      " [0 1 2 3]\n",
      " [4 5 6 7]]\n"
     ]
    }
   ],
   "source": [
    "# 가로 축으로 합치기\n",
    "array1 = np.array([1, 2, 3])\n",
    "array2 = np.array([4, 5, 6])\n",
    "\n",
    "array3 = np.concatenate([array1, array2]) \n",
    "\n",
    "print(array3.shape) # 크기 (6개의 데이터가 담겨있는 배열)\n",
    "print(array3)\n",
    "\n",
    "print('----------------------------------------------------')\n",
    "\n",
    "# 세로 축으로 합치기\n",
    "array4 = np.arange(4).reshape(1,4)\n",
    "array5 = np.arange(8).reshape(2,4)\n",
    "\n",
    "\n",
    "array6 = np.concatenate([array4, array5], axis = 0)\n",
    "\n",
    "print(array6.shape)\n",
    "print(array6)"
   ]
  },
  {
   "cell_type": "markdown",
   "metadata": {},
   "source": [
    "## Numpy 배열 나누기"
   ]
  },
  {
   "cell_type": "code",
   "execution_count": 55,
   "metadata": {},
   "outputs": [
    {
     "name": "stdout",
     "output_type": "stream",
     "text": [
      "[[0 1]\n",
      " [4 5]]\n",
      "[[2 3]\n",
      " [6 7]]\n",
      "7\n"
     ]
    }
   ],
   "source": [
    "array = np.arange(8).reshape(2, 4)\n",
    "\n",
    "left, right = np.split(array, [2], axis = 1)\n",
    "\n",
    "print(left)\n",
    "print(right)\n",
    "print(right[1][1])"
   ]
  },
  {
   "cell_type": "markdown",
   "metadata": {},
   "source": []
  }
 ],
 "metadata": {
  "kernelspec": {
   "display_name": "Python 3",
   "language": "python",
   "name": "python3"
  },
  "language_info": {
   "codemirror_mode": {
    "name": "ipython",
    "version": 3
   },
   "file_extension": ".py",
   "mimetype": "text/x-python",
   "name": "python",
   "nbconvert_exporter": "python",
   "pygments_lexer": "ipython3",
   "version": "3.7.6"
  }
 },
 "nbformat": 4,
 "nbformat_minor": 4
}
